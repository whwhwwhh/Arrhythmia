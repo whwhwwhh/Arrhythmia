{
 "cells": [
  {
   "cell_type": "markdown",
   "id": "dde28e6f",
   "metadata": {},
   "source": [
    "### 1. Purpose\n",
    "The purpose of this document is to provide a set of problems to be solved by Vodafone Advanced Data Analytics\n",
    "candidates as a means of skill assessment.\n",
    "### 2. Instructions\n",
    "Solve the problems as directed below.\n",
    "\n",
    "#### 2.1. Code base\n",
    "- Python>=3.6\n",
    "- Include requirements.txt file in each repository\n",
    "\n",
    "### 2.2. Submission\n",
    "Each solution should be uploaded as a GitHub repository that will be deleted after\n",
    "assessment.\n",
    "\n",
    "Provide the repository links to repos in an email to mo.namazi@tpgtelecom.com.au and cc jiaxi.li@tpgtelecom.com.au / mahati.suvvari@tpgtelecom.com.au\n",
    "\n",
    "#### 2.3. Data\n",
    "The data for the problems can be found under the `data/` folder\n",
    "\n",
    "#### 2.4. Guidelines\n",
    "General solutions to these problems may be found available on the internet, feel free to\n",
    "leverage these, however keep in mind we are looking for out-of-the-box thinking as well as\n",
    "neat and scalable code.\n",
    "Focus on the areas you are skilled in.\n",
    "You will be asked to explain your code in full detail.\n",
    "This is an opportunity to show your skills, as much as pass a test, we do not have perfect\n",
    "solutions in mind."
   ]
  },
  {
   "cell_type": "markdown",
   "id": "74720bcd",
   "metadata": {},
   "source": [
    "### Dataset Description\n",
    "\n",
    "We provide an open source dataset for cardiac arrhythmia classification. The dataset contains 452 patients and 279 attributes\n",
    "\n",
    "The dataset is provided in 2 different files:\n",
    "- `arrhythmia.data`\n",
    "\n",
    "- `arrhythmia.names`"
   ]
  },
  {
   "cell_type": "markdown",
   "id": "00c88016",
   "metadata": {},
   "source": [
    "### Task 1 - Modelling\n",
    "\n",
    "Build a standalone python program (.py) that can be executed in command-line (such as Terminal, Powershell, etc.).\n",
    "\n",
    "`a.` Explore the dataset on the basic statistics, produce a classification model to predict the different classes of Arrhythmia, and present the findings as well as the performance of the model.\n",
    "\n",
    "---\n",
    "\n",
    "`Requirement.` **Using PySpark to build the application**"
   ]
  },
  {
   "cell_type": "markdown",
   "id": "e3e86b11-9a78-42ce-ac2e-b7f8a1c113a8",
   "metadata": {},
   "source": [
    "#TODO \n",
    "**the whole implementation can be found in apps folder**"
   ]
  },
  {
   "cell_type": "markdown",
   "id": "b1a9dbb3-f78e-4558-a37a-17ac2b928d28",
   "metadata": {},
   "source": [
    "### A Smaple of Reusults"
   ]
  },
  {
   "cell_type": "code",
   "execution_count": null,
   "id": "c2487bb5-a04e-4cfe-b802-b739fc2f3952",
   "metadata": {},
   "outputs": [],
   "source": [
    "from pyspark.ml.tuning import CrossValidatorModel\n",
    "from pyspark.mllib.evaluation import BinaryClassificationMetrics\n",
    "from pyspark.ml.feature import Normalizer\n",
    "from pyspark.ml.feature import UnivariateFeatureSelector\n",
    "import pandas as pd\n",
    "from pyspark.ml.linalg import Vectors\n",
    "from pyspark.sql import SparkSession\n",
    "\n",
    "spark = SparkSession.builder.getOrCreate()\n",
    "#this function is specaily designed for the arraythmia dataset.\n",
    "def load_arraythmia_data(path:str):\n",
    "    try:\n",
    "        print(path)\n",
    "        df = pd.read_csv(path, header=None)\n",
    "        print(\"INFO: the data is loaded.\")\n",
    "\n",
    "        #according to my analysis (in jupyter notebook), I decided to remove following columns\n",
    "        df.drop(columns=[10, 11, 12, 13, 14], inplace=True)\n",
    "        \n",
    "        #next step, build labels. I wanted to convert the task to be a binary classification.\n",
    "        binary_labels = []\n",
    "        for label in df[279]:\n",
    "            if label == 1:\n",
    "                binary_labels.append(1)\n",
    "            else:\n",
    "                binary_labels.append(0)\n",
    "        #now we need to drop the original labels\n",
    "        df.drop(columns=[279], inplace = True)\n",
    "        #convert dataframe to numpy array\n",
    "        \n",
    "        return df.to_numpy(), binary_labels\n",
    "    except Exception as e:\n",
    "        print(e)\n",
    "        print(\"ERROR:the input file should be in csv format!\")\n",
    "        return None, None\n",
    "    \n",
    "def normalise_data(dataFrame, normalizer=None):\n",
    "\n",
    "\n",
    "    if normalizer:\n",
    "        normal = Normalizer(inputCol=\"features\", outputCol=\"normFeatures\", p=normalizer)\n",
    "        return normal.transform(dataFrame)\n",
    "    else:\n",
    "        return dataFrame\n",
    "    \n",
    "def select_features(data):\n",
    "    selector = UnivariateFeatureSelector(outputCol=\"selectedFeatures\")\n",
    "    selector.setFeatureType(\"continuous\").setLabelType(\"categorical\").setSelectionThreshold(100)\n",
    "    model = selector.fit(data)\n",
    "    model.getFeaturesCol()\n",
    "    return model.transform(data)\n",
    "\n",
    "np_array, labels = load_arraythmia_data(\"data/arrhythmia.data\")\n",
    "\n",
    "list_tuples = []\n",
    "for i in range(0, len(np_array)):\n",
    "        list_tuples.append((labels[i],Vectors.dense(np_array[i])))\n",
    "        \n",
    "data = spark.createDataFrame(list_tuples, [\"label\", \"features\"])\n",
    "\n",
    "\n",
    "#optional\n",
    "dataFrame = normalise_data(data, 1.0)\n",
    "sparkData = select_features(dataFrame)\n",
    "    \n",
    "#train, test = df_selected.randomSplit([0.9, 0.1], seed=12345)\n",
    "split_point = int(0.1 * (len(np_array)))\n",
    "test = spark.createDataFrame(sparkData.collect()[:split_point])\n",
    "\n",
    "model_folder = \"data/model/result/CrossValidationModel\"\n",
    "model = CrossValidatorModel.load(model_folder)\n",
    "predictions = model.transform(test)\n",
    "\n",
    "\n",
    "# scoreAndLabels = sc.parallelize(["
   ]
  },
  {
   "cell_type": "code",
   "execution_count": 47,
   "id": "1a514742-1e45-40ea-8d3a-4621861eeab7",
   "metadata": {},
   "outputs": [],
   "source": [
    "y_test = []\n",
    "predicts = []\n",
    "for row in predictions.collect():\n",
    "    y_test.append(row.label)\n",
    "    predicts.append(int(row.prediction))"
   ]
  },
  {
   "cell_type": "code",
   "execution_count": 52,
   "id": "dce1fde8-7163-49ce-bebe-1120b8ec3110",
   "metadata": {},
   "outputs": [],
   "source": [
    "# class 1 is normal "
   ]
  },
  {
   "cell_type": "code",
   "execution_count": 51,
   "id": "367b1a93-8f55-45ba-9fe5-518dc1d93485",
   "metadata": {},
   "outputs": [
    {
     "data": {
      "text/html": [
       "<div>\n",
       "<style scoped>\n",
       "    .dataframe tbody tr th:only-of-type {\n",
       "        vertical-align: middle;\n",
       "    }\n",
       "\n",
       "    .dataframe tbody tr th {\n",
       "        vertical-align: top;\n",
       "    }\n",
       "\n",
       "    .dataframe thead th {\n",
       "        text-align: right;\n",
       "    }\n",
       "</style>\n",
       "<table border=\"1\" class=\"dataframe\">\n",
       "  <thead>\n",
       "    <tr style=\"text-align: right;\">\n",
       "      <th></th>\n",
       "      <th>presision</th>\n",
       "      <th>recall</th>\n",
       "      <th>F1</th>\n",
       "      <th>class</th>\n",
       "    </tr>\n",
       "  </thead>\n",
       "  <tbody>\n",
       "    <tr>\n",
       "      <th>0</th>\n",
       "      <td>0.812500</td>\n",
       "      <td>0.684211</td>\n",
       "      <td>0.742857</td>\n",
       "      <td>0</td>\n",
       "    </tr>\n",
       "    <tr>\n",
       "      <th>1</th>\n",
       "      <td>0.793103</td>\n",
       "      <td>0.884615</td>\n",
       "      <td>0.836364</td>\n",
       "      <td>1</td>\n",
       "    </tr>\n",
       "  </tbody>\n",
       "</table>\n",
       "</div>"
      ],
      "text/plain": [
       "   presision    recall        F1  class\n",
       "0   0.812500  0.684211  0.742857      0\n",
       "1   0.793103  0.884615  0.836364      1"
      ]
     },
     "execution_count": 51,
     "metadata": {},
     "output_type": "execute_result"
    }
   ],
   "source": [
    "from sklearn.metrics import precision_recall_fscore_support\n",
    "score = precision_recall_fscore_support(np.array(y_test), np.array(predicts), average=None )\n",
    "score_t = np.transpose(np.array([score[0], score[1], score[2]]))\n",
    "    \n",
    "    \n",
    "df = pd.DataFrame(score_t, columns = ['presision', 'recall', 'F1'])\n",
    "df['class'] = [0,1]\n",
    "df"
   ]
  },
  {
   "cell_type": "markdown",
   "id": "b7f125de-ac46-4ea5-bac8-e83fe1baf31a",
   "metadata": {},
   "source": [
    "class 0: has arrhythmia \n",
    "class 1: normal\n",
    "\n",
    "As we can see from the above results, the recall value score of class 0 is very low. Unfortunately, for case like this, we would want higher recall scores on samples that may be arrhythmia.\n",
    "\n",
    "To solve this issue:\n",
    "1. change the classification threhold\n",
    "2. increase the number of training samples in class 0 (this may be a bit difficult to acchive, if there is not change to collect more data. so maybe reduce the number of samples in class 1).\n"
   ]
  },
  {
   "cell_type": "markdown",
   "id": "7e7abbbf",
   "metadata": {},
   "source": [
    "### Task 2 - Deployment\n",
    "\n",
    "Build a controlled environment to package the above solution, so that this code and model could be easily executed in different platform and servers without manually resolving the dependencies/libraries.\n",
    "\n",
    "- Build a container environment/application that the training and inferencing workflow could be executed separated in CLI.\n",
    "- Make sure the application code is modular and easy to read by peers.\n",
    "\n",
    "Note that, it is important to keep in mind that, the same code need to be executed in our environemnt without changing much to the code submitted.\n",
    "\n",
    "---\n",
    "\n",
    "`Hint.` To complete this task, it is expected to include the detailed steps of executing the build of the container environment.\n",
    "\n",
    "`Requirement.` Using `spark-submit` to start/execute the scripts/application."
   ]
  },
  {
   "cell_type": "code",
   "execution_count": 154,
   "id": "4b744455",
   "metadata": {},
   "outputs": [],
   "source": [
    "#TODO\n",
    "#find the code in app folder"
   ]
  },
  {
   "cell_type": "markdown",
   "id": "1450d4bc",
   "metadata": {},
   "source": [
    "### Task 3 - Data Analytics\n",
    "\n",
    "Build interesting insights that you could find from the provided dataset and/or the predictive results.\n",
    "\n",
    "---\n",
    "\n",
    "`Hint.` Insights could be presented with or without the results from `Task 1`. Feel free to use any tools and libraries to visualise the insights."
   ]
  },
  {
   "cell_type": "markdown",
   "id": "fbb8f1e6-1312-4543-87f0-e8b02ac145cf",
   "metadata": {},
   "source": [
    "#TODO\n",
    "1. age, heights, sex, weights, \n",
    "2. scalter, obeserve data outliers  "
   ]
  },
  {
   "cell_type": "markdown",
   "id": "0da721fe-4012-496b-bcf7-798c5a32c8c7",
   "metadata": {},
   "source": [
    "## Check class distributions"
   ]
  },
  {
   "cell_type": "code",
   "execution_count": 197,
   "id": "3645a52b-a017-4469-83c2-4ee3c1cb5622",
   "metadata": {},
   "outputs": [
    {
     "data": {
      "text/plain": [
       "279\n",
       "1     0.542035\n",
       "10    0.110619\n",
       "2     0.097345\n",
       "6     0.055310\n",
       "16    0.048673\n",
       "3     0.033186\n",
       "4     0.033186\n",
       "5     0.028761\n",
       "9     0.019912\n",
       "15    0.011062\n",
       "14    0.008850\n",
       "7     0.006637\n",
       "8     0.004425\n",
       "Name: 0, dtype: float64"
      ]
     },
     "execution_count": 197,
     "metadata": {},
     "output_type": "execute_result"
    }
   ],
   "source": [
    "import pandas as pd\n",
    "df_data = pd.read_csv('data/arrhythmia.data',  header=None)\n",
    "\n",
    "df_data.groupby(df_data[279]).count().sort_values(0, ascending=False)[0]/len(df_data)"
   ]
  },
  {
   "cell_type": "markdown",
   "id": "b35bcd39-f203-43cb-adfe-4c0ac0a11d33",
   "metadata": {},
   "source": [
    "There are 16 diffrent calsses of this data set, however, as we can see that about 54% percent of the instances are normal, the rest of samples are in different levels of disorder. In this case, it would be a great challange to classify all 16 levels in one go because the data is extremely imbalanced. Therefore, I would like to initially treat this problem as a binary classification, to predict whether a pateint is normal or has arraythmia. "
   ]
  },
  {
   "cell_type": "markdown",
   "id": "3ed17274-4677-4043-aa0e-0c5583dabd52",
   "metadata": {},
   "source": [
    "## Handle missing data"
   ]
  },
  {
   "cell_type": "code",
   "execution_count": 198,
   "id": "3f3901c2-eccb-4d93-86f2-ad5a15b1061a",
   "metadata": {},
   "outputs": [
    {
     "data": {
      "text/plain": [
       "[(13, 376), (11, 22), (10, 8), (12, 1), (14, 1), (0, 0)]"
      ]
     },
     "execution_count": 198,
     "metadata": {},
     "output_type": "execute_result"
    }
   ],
   "source": [
    "no_of_nan = {}\n",
    "for i in range(0, 279):\n",
    "    no_of_nan[i] = len(df_data[df_data[i]== '?'])\n",
    "sorted(no_of_nan.items(), key=lambda item: item[1], reverse=True)[:6]"
   ]
  },
  {
   "cell_type": "code",
   "execution_count": 199,
   "id": "99be0736-07cb-45df-b25d-ec930eeb8051",
   "metadata": {},
   "outputs": [
    {
     "data": {
      "text/plain": [
       "0.831858407079646"
      ]
     },
     "execution_count": 199,
     "metadata": {},
     "output_type": "execute_result"
    }
   ],
   "source": [
    "376/len(df_data)"
   ]
  },
  {
   "cell_type": "markdown",
   "id": "5eb5bb7f-516f-4e5b-bf1d-0099acb8348b",
   "metadata": {},
   "source": [
    "Missing values are in column 11, 10, 12, 13, 14. \n",
    "we can see column 13 has over 83% missing data. \n",
    "These columns are Vector angles in degrees on front plane of:\n",
    "10 QRS\n",
    "11 T\n",
    "12 P\n",
    "13 QRST\n",
    "14 JAs \n",
    "Seems like they are related, therefore, I decide to drop all of them."
   ]
  },
  {
   "cell_type": "code",
   "execution_count": 200,
   "id": "26332afe-a512-451f-b44f-5d046302bdfb",
   "metadata": {},
   "outputs": [],
   "source": [
    "df_data.drop(columns = [10, 11, 12, 13, 14], inplace=True)"
   ]
  },
  {
   "cell_type": "markdown",
   "id": "2d12e2f5-0f0a-410e-b924-5596c5d4939c",
   "metadata": {},
   "source": [
    "Now, Lets build the new labels for the binary classification.\n"
   ]
  },
  {
   "cell_type": "code",
   "execution_count": 201,
   "id": "23aba244-042f-42f5-899f-606bd3718982",
   "metadata": {},
   "outputs": [],
   "source": [
    "new_labels = []\n",
    "#the last column records labels\n",
    "for label in df_data[279].values:\n",
    "    if label != 1:\n",
    "        new_labels.append(0)\n",
    "    else:\n",
    "        new_labels.append(1)\n"
   ]
  },
  {
   "cell_type": "code",
   "execution_count": 202,
   "id": "4eaca61f-790f-4b32-87a2-dec02946065d",
   "metadata": {},
   "outputs": [],
   "source": [
    "#now I want to drop the label column to build the training data.\n",
    "df_data.drop(columns = 279, inplace = True)"
   ]
  },
  {
   "cell_type": "code",
   "execution_count": 203,
   "id": "aabf77f8-4f01-482a-875b-2728d3a93b5f",
   "metadata": {},
   "outputs": [
    {
     "data": {
      "text/html": [
       "<div>\n",
       "<style scoped>\n",
       "    .dataframe tbody tr th:only-of-type {\n",
       "        vertical-align: middle;\n",
       "    }\n",
       "\n",
       "    .dataframe tbody tr th {\n",
       "        vertical-align: top;\n",
       "    }\n",
       "\n",
       "    .dataframe thead th {\n",
       "        text-align: right;\n",
       "    }\n",
       "</style>\n",
       "<table border=\"1\" class=\"dataframe\">\n",
       "  <thead>\n",
       "    <tr style=\"text-align: right;\">\n",
       "      <th></th>\n",
       "      <th>0</th>\n",
       "      <th>1</th>\n",
       "      <th>2</th>\n",
       "      <th>3</th>\n",
       "      <th>4</th>\n",
       "      <th>5</th>\n",
       "      <th>6</th>\n",
       "      <th>7</th>\n",
       "      <th>8</th>\n",
       "      <th>9</th>\n",
       "      <th>...</th>\n",
       "      <th>269</th>\n",
       "      <th>270</th>\n",
       "      <th>271</th>\n",
       "      <th>272</th>\n",
       "      <th>273</th>\n",
       "      <th>274</th>\n",
       "      <th>275</th>\n",
       "      <th>276</th>\n",
       "      <th>277</th>\n",
       "      <th>278</th>\n",
       "    </tr>\n",
       "  </thead>\n",
       "  <tbody>\n",
       "    <tr>\n",
       "      <th>0</th>\n",
       "      <td>75</td>\n",
       "      <td>0</td>\n",
       "      <td>190</td>\n",
       "      <td>80</td>\n",
       "      <td>91</td>\n",
       "      <td>193</td>\n",
       "      <td>371</td>\n",
       "      <td>174</td>\n",
       "      <td>121</td>\n",
       "      <td>-16</td>\n",
       "      <td>...</td>\n",
       "      <td>-0.3</td>\n",
       "      <td>0.0</td>\n",
       "      <td>9.0</td>\n",
       "      <td>-0.9</td>\n",
       "      <td>0.0</td>\n",
       "      <td>0.0</td>\n",
       "      <td>0.9</td>\n",
       "      <td>2.9</td>\n",
       "      <td>23.3</td>\n",
       "      <td>49.4</td>\n",
       "    </tr>\n",
       "    <tr>\n",
       "      <th>1</th>\n",
       "      <td>56</td>\n",
       "      <td>1</td>\n",
       "      <td>165</td>\n",
       "      <td>64</td>\n",
       "      <td>81</td>\n",
       "      <td>174</td>\n",
       "      <td>401</td>\n",
       "      <td>149</td>\n",
       "      <td>39</td>\n",
       "      <td>25</td>\n",
       "      <td>...</td>\n",
       "      <td>-0.5</td>\n",
       "      <td>0.0</td>\n",
       "      <td>8.5</td>\n",
       "      <td>0.0</td>\n",
       "      <td>0.0</td>\n",
       "      <td>0.0</td>\n",
       "      <td>0.2</td>\n",
       "      <td>2.1</td>\n",
       "      <td>20.4</td>\n",
       "      <td>38.8</td>\n",
       "    </tr>\n",
       "    <tr>\n",
       "      <th>2</th>\n",
       "      <td>54</td>\n",
       "      <td>0</td>\n",
       "      <td>172</td>\n",
       "      <td>95</td>\n",
       "      <td>138</td>\n",
       "      <td>163</td>\n",
       "      <td>386</td>\n",
       "      <td>185</td>\n",
       "      <td>102</td>\n",
       "      <td>96</td>\n",
       "      <td>...</td>\n",
       "      <td>0.9</td>\n",
       "      <td>0.0</td>\n",
       "      <td>9.5</td>\n",
       "      <td>-2.4</td>\n",
       "      <td>0.0</td>\n",
       "      <td>0.0</td>\n",
       "      <td>0.3</td>\n",
       "      <td>3.4</td>\n",
       "      <td>12.3</td>\n",
       "      <td>49.0</td>\n",
       "    </tr>\n",
       "    <tr>\n",
       "      <th>3</th>\n",
       "      <td>55</td>\n",
       "      <td>0</td>\n",
       "      <td>175</td>\n",
       "      <td>94</td>\n",
       "      <td>100</td>\n",
       "      <td>202</td>\n",
       "      <td>380</td>\n",
       "      <td>179</td>\n",
       "      <td>143</td>\n",
       "      <td>28</td>\n",
       "      <td>...</td>\n",
       "      <td>0.1</td>\n",
       "      <td>0.0</td>\n",
       "      <td>12.2</td>\n",
       "      <td>-2.2</td>\n",
       "      <td>0.0</td>\n",
       "      <td>0.0</td>\n",
       "      <td>0.4</td>\n",
       "      <td>2.6</td>\n",
       "      <td>34.6</td>\n",
       "      <td>61.6</td>\n",
       "    </tr>\n",
       "    <tr>\n",
       "      <th>4</th>\n",
       "      <td>75</td>\n",
       "      <td>0</td>\n",
       "      <td>190</td>\n",
       "      <td>80</td>\n",
       "      <td>88</td>\n",
       "      <td>181</td>\n",
       "      <td>360</td>\n",
       "      <td>177</td>\n",
       "      <td>103</td>\n",
       "      <td>-16</td>\n",
       "      <td>...</td>\n",
       "      <td>-0.4</td>\n",
       "      <td>0.0</td>\n",
       "      <td>13.1</td>\n",
       "      <td>-3.6</td>\n",
       "      <td>0.0</td>\n",
       "      <td>0.0</td>\n",
       "      <td>-0.1</td>\n",
       "      <td>3.9</td>\n",
       "      <td>25.4</td>\n",
       "      <td>62.8</td>\n",
       "    </tr>\n",
       "  </tbody>\n",
       "</table>\n",
       "<p>5 rows × 274 columns</p>\n",
       "</div>"
      ],
      "text/plain": [
       "   0    1    2    3    4    5    6    7    8    9    ...  269  270   271  272  \\\n",
       "0   75    0  190   80   91  193  371  174  121  -16  ... -0.3  0.0   9.0 -0.9   \n",
       "1   56    1  165   64   81  174  401  149   39   25  ... -0.5  0.0   8.5  0.0   \n",
       "2   54    0  172   95  138  163  386  185  102   96  ...  0.9  0.0   9.5 -2.4   \n",
       "3   55    0  175   94  100  202  380  179  143   28  ...  0.1  0.0  12.2 -2.2   \n",
       "4   75    0  190   80   88  181  360  177  103  -16  ... -0.4  0.0  13.1 -3.6   \n",
       "\n",
       "   273  274  275  276   277   278  \n",
       "0  0.0  0.0  0.9  2.9  23.3  49.4  \n",
       "1  0.0  0.0  0.2  2.1  20.4  38.8  \n",
       "2  0.0  0.0  0.3  3.4  12.3  49.0  \n",
       "3  0.0  0.0  0.4  2.6  34.6  61.6  \n",
       "4  0.0  0.0 -0.1  3.9  25.4  62.8  \n",
       "\n",
       "[5 rows x 274 columns]"
      ]
     },
     "execution_count": 203,
     "metadata": {},
     "output_type": "execute_result"
    }
   ],
   "source": [
    "df_data.head()"
   ]
  },
  {
   "cell_type": "markdown",
   "id": "5e71bb79-7651-4143-a985-b169e260fcfb",
   "metadata": {},
   "source": [
    "## Check personal information"
   ]
  },
  {
   "cell_type": "markdown",
   "id": "0f47133c-145d-4819-a58a-56fc0a294dae",
   "metadata": {},
   "source": [
    "Known the first 4 columns of the data are:\n",
    "\n",
    "      1 Age: Age in years , linear\n",
    "      2 Sex: Sex (0 = male; 1 = female) , nominal\n",
    "      3 Height: Height in centimeters , linear\n",
    "      4 Weight: Weight in kilograms , lineardf_person = df_data[[0, 1, 2, 3]]\n",
    "df_person.rename(columns = {0:'Age', 1:'Sex', 2:'Height', 3:'Weight'}, inplace=True)\n",
    "      \n",
    "      \n",
    "I am quite curious if there are any correlations between them an arrhythmia."
   ]
  },
  {
   "cell_type": "code",
   "execution_count": null,
   "id": "5c012588-73de-4bd7-923e-6baa5a0e5415",
   "metadata": {},
   "outputs": [],
   "source": [
    "#give columns names to intrested columns\n",
    "df_person = df_data[[0, 1, 2, 3]]\n",
    "df_person.rename(columns = {0:'Age', 1:'Sex', 2:'Height', 3:'Weight'}, inplace=True)"
   ]
  },
  {
   "cell_type": "code",
   "execution_count": 210,
   "id": "9b929920-4c65-492a-9125-c3c7eabd9079",
   "metadata": {},
   "outputs": [
    {
     "data": {
      "text/plain": [
       "count    452.000000\n",
       "mean      46.471239\n",
       "std       16.466631\n",
       "min        0.000000\n",
       "25%       36.000000\n",
       "50%       47.000000\n",
       "75%       58.000000\n",
       "max       83.000000\n",
       "Name: Age, dtype: float64"
      ]
     },
     "execution_count": 210,
     "metadata": {},
     "output_type": "execute_result"
    }
   ],
   "source": [
    "df_person['Age'].describe()"
   ]
  },
  {
   "cell_type": "markdown",
   "id": "0cf0d3b3-060b-45fe-b0af-df1af2e954d2",
   "metadata": {},
   "source": [
    "LOOKS OK"
   ]
  },
  {
   "cell_type": "code",
   "execution_count": 213,
   "id": "edc007f3-71d1-49db-819a-00b75942d374",
   "metadata": {},
   "outputs": [
    {
     "data": {
      "text/html": [
       "<div>\n",
       "<style scoped>\n",
       "    .dataframe tbody tr th:only-of-type {\n",
       "        vertical-align: middle;\n",
       "    }\n",
       "\n",
       "    .dataframe tbody tr th {\n",
       "        vertical-align: top;\n",
       "    }\n",
       "\n",
       "    .dataframe thead th {\n",
       "        text-align: right;\n",
       "    }\n",
       "</style>\n",
       "<table border=\"1\" class=\"dataframe\">\n",
       "  <thead>\n",
       "    <tr style=\"text-align: right;\">\n",
       "      <th></th>\n",
       "      <th>Age</th>\n",
       "      <th>Height</th>\n",
       "      <th>Weight</th>\n",
       "    </tr>\n",
       "    <tr>\n",
       "      <th>Sex</th>\n",
       "      <th></th>\n",
       "      <th></th>\n",
       "      <th></th>\n",
       "    </tr>\n",
       "  </thead>\n",
       "  <tbody>\n",
       "    <tr>\n",
       "      <th>0</th>\n",
       "      <td>203</td>\n",
       "      <td>203</td>\n",
       "      <td>203</td>\n",
       "    </tr>\n",
       "    <tr>\n",
       "      <th>1</th>\n",
       "      <td>249</td>\n",
       "      <td>249</td>\n",
       "      <td>249</td>\n",
       "    </tr>\n",
       "  </tbody>\n",
       "</table>\n",
       "</div>"
      ],
      "text/plain": [
       "     Age  Height  Weight\n",
       "Sex                     \n",
       "0    203     203     203\n",
       "1    249     249     249"
      ]
     },
     "execution_count": 213,
     "metadata": {},
     "output_type": "execute_result"
    }
   ],
   "source": [
    "df_person.groupby('Sex').count()"
   ]
  },
  {
   "cell_type": "code",
   "execution_count": null,
   "id": "1b7e6017-cb15-4713-86a9-fce90cd3148a",
   "metadata": {},
   "outputs": [],
   "source": [
    "249/len(df_person)"
   ]
  },
  {
   "cell_type": "code",
   "execution_count": 204,
   "id": "4e14b922-de56-4ac0-9b98-27f905a15fc8",
   "metadata": {},
   "outputs": [
    {
     "name": "stdout",
     "output_type": "stream",
     "text": [
      "+-----+--------------------+\n",
      "|label|            features|\n",
      "+-----+--------------------+\n",
      "|    0|[75.0,0.0,190.0,8...|\n",
      "|    0|[56.0,1.0,165.0,6...|\n",
      "|    0|[54.0,0.0,172.0,9...|\n",
      "|    1|[55.0,0.0,175.0,9...|\n",
      "|    0|[75.0,0.0,190.0,8...|\n",
      "|    0|[13.0,0.0,169.0,5...|\n",
      "|    1|[40.0,1.0,160.0,5...|\n",
      "|    1|[49.0,1.0,162.0,5...|\n",
      "|    1|[44.0,0.0,168.0,5...|\n",
      "|    0|[50.0,1.0,167.0,6...|\n",
      "|    0|[62.0,0.0,170.0,7...|\n",
      "|    1|[45.0,1.0,165.0,8...|\n",
      "|    0|[54.0,1.0,172.0,5...|\n",
      "|    0|[30.0,0.0,170.0,7...|\n",
      "|    1|[44.0,1.0,160.0,8...|\n",
      "|    1|[47.0,1.0,150.0,4...|\n",
      "|    0|[47.0,0.0,171.0,5...|\n",
      "|    1|[46.0,1.0,158.0,5...|\n",
      "|    1|[73.0,0.0,165.0,6...|\n",
      "|    1|[57.0,1.0,166.0,7...|\n",
      "+-----+--------------------+\n",
      "only showing top 20 rows\n",
      "\n"
     ]
    }
   ],
   "source": [
    "\n",
    "from sklearn.preprocessing import normalize\n",
    "from pyspark.ml.linalg import Vectors\n",
    "def prepare_data(rawData, normalizer=None):\n",
    "    if normalizer:\n",
    "        return normalize(rawData, norm=normalizer)\n",
    "    else:\n",
    "        return rawData\n",
    "    \n",
    "array = prepare_data(df_data.to_numpy(), normalizer = None)\n",
    "list_tuples = []\n",
    "for i in range(0, len(array)):\n",
    "    list_tuples.append((new_labels[i],Vectors.dense(array[i])))\n",
    "data = spark.createDataFrame(list_tuples, [\"label\", \"features\"])\n",
    "data.show()"
   ]
  },
  {
   "cell_type": "markdown",
   "id": "8c779fe7-70ee-4fe7-b678-835b1ef1a5f1",
   "metadata": {},
   "source": [
    "I also want to do feature selections"
   ]
  },
  {
   "cell_type": "code",
   "execution_count": 14,
   "id": "6569ff56-fc23-4ce3-8774-4c89249443a3",
   "metadata": {},
   "outputs": [
    {
     "name": "stderr",
     "output_type": "stream",
     "text": [
      "                                                                                \r"
     ]
    }
   ],
   "source": [
    "from pyspark.ml.feature import UnivariateFeatureSelector\n",
    "selector = UnivariateFeatureSelector(outputCol=\"selectedFeatures\")\n",
    "selector.setFeatureType(\"continuous\").setLabelType(\"categorical\").setSelectionThreshold(100)\n",
    "model = selector.fit(data)\n",
    "model.getFeaturesCol()\n",
    "df_selected = model.transform(data)"
   ]
  },
  {
   "cell_type": "code",
   "execution_count": 15,
   "id": "5168c2c4-24fd-4b65-a918-0adaeb11a27f",
   "metadata": {},
   "outputs": [
    {
     "name": "stdout",
     "output_type": "stream",
     "text": [
      "+--------------------+--------------------+\n",
      "|            features|    selectedFeatures|\n",
      "+--------------------+--------------------+\n",
      "|[75.0,0.0,190.0,8...|[0.0,91.0,174.0,4...|\n",
      "|[56.0,1.0,165.0,6...|[1.0,81.0,149.0,0...|\n",
      "|[54.0,0.0,172.0,9...|[0.0,138.0,185.0,...|\n",
      "|[55.0,0.0,175.0,9...|[0.0,100.0,179.0,...|\n",
      "|[75.0,0.0,190.0,8...|[0.0,88.0,177.0,4...|\n",
      "|[13.0,0.0,169.0,5...|[0.0,100.0,174.0,...|\n",
      "|[40.0,1.0,160.0,5...|[1.0,77.0,133.0,0...|\n",
      "|[49.0,1.0,162.0,5...|[1.0,78.0,157.0,3...|\n",
      "|[44.0,0.0,168.0,5...|[0.0,84.0,160.0,0...|\n",
      "|[50.0,1.0,167.0,6...|[1.0,89.0,156.0,4...|\n",
      "|[62.0,0.0,170.0,7...|[0.0,102.0,156.0,...|\n",
      "|[45.0,1.0,165.0,8...|[1.0,77.0,150.0,2...|\n",
      "|[54.0,1.0,172.0,5...|[1.0,78.0,163.0,0...|\n",
      "|[30.0,0.0,170.0,7...|[0.0,91.0,157.0,0...|\n",
      "|[44.0,1.0,160.0,8...|[1.0,77.0,163.0,0...|\n",
      "|[47.0,1.0,150.0,4...|[1.0,75.0,169.0,0...|\n",
      "|[47.0,0.0,171.0,5...|[0.0,82.0,169.0,0...|\n",
      "|[46.0,1.0,158.0,5...|[1.0,70.0,122.0,0...|\n",
      "|[73.0,0.0,165.0,6...|[0.0,91.0,175.0,5...|\n",
      "|[57.0,1.0,166.0,7...|[1.0,82.0,158.0,1...|\n",
      "+--------------------+--------------------+\n",
      "only showing top 20 rows\n",
      "\n"
     ]
    }
   ],
   "source": [
    "df_selected.select('features', 'selectedFeatures').show()"
   ]
  },
  {
   "cell_type": "code",
   "execution_count": 236,
   "id": "9a237ae1-c51a-4635-be26-e5aee971ca1f",
   "metadata": {},
   "outputs": [
    {
     "name": "stderr",
     "output_type": "stream",
     "text": [
      "/var/folders/nr/n2gb5q9x2cjg8v0ly8k8xtgc0000gn/T/ipykernel_13270/893380712.py:1: SettingWithCopyWarning: \n",
      "A value is trying to be set on a copy of a slice from a DataFrame.\n",
      "Try using .loc[row_indexer,col_indexer] = value instead\n",
      "\n",
      "See the caveats in the documentation: https://pandas.pydata.org/pandas-docs/stable/user_guide/indexing.html#returning-a-view-versus-a-copy\n",
      "  df_person['label'] = new_labels\n"
     ]
    }
   ],
   "source": [
    "df_person['label'] = new_labels"
   ]
  },
  {
   "cell_type": "code",
   "execution_count": 123,
   "id": "a34a5554-58f3-4b0c-9bb4-cfe51d9d6b56",
   "metadata": {},
   "outputs": [
    {
     "data": {
      "text/html": [
       "<div>\n",
       "<style scoped>\n",
       "    .dataframe tbody tr th:only-of-type {\n",
       "        vertical-align: middle;\n",
       "    }\n",
       "\n",
       "    .dataframe tbody tr th {\n",
       "        vertical-align: top;\n",
       "    }\n",
       "\n",
       "    .dataframe thead th {\n",
       "        text-align: right;\n",
       "    }\n",
       "</style>\n",
       "<table border=\"1\" class=\"dataframe\">\n",
       "  <thead>\n",
       "    <tr style=\"text-align: right;\">\n",
       "      <th></th>\n",
       "      <th>Age</th>\n",
       "      <th>Sex</th>\n",
       "      <th>Height</th>\n",
       "      <th>Weight</th>\n",
       "      <th>label</th>\n",
       "    </tr>\n",
       "  </thead>\n",
       "  <tbody>\n",
       "    <tr>\n",
       "      <th>0</th>\n",
       "      <td>75</td>\n",
       "      <td>0</td>\n",
       "      <td>190.0</td>\n",
       "      <td>80</td>\n",
       "      <td>0</td>\n",
       "    </tr>\n",
       "    <tr>\n",
       "      <th>1</th>\n",
       "      <td>56</td>\n",
       "      <td>1</td>\n",
       "      <td>165.0</td>\n",
       "      <td>64</td>\n",
       "      <td>0</td>\n",
       "    </tr>\n",
       "    <tr>\n",
       "      <th>2</th>\n",
       "      <td>54</td>\n",
       "      <td>0</td>\n",
       "      <td>172.0</td>\n",
       "      <td>95</td>\n",
       "      <td>0</td>\n",
       "    </tr>\n",
       "    <tr>\n",
       "      <th>3</th>\n",
       "      <td>55</td>\n",
       "      <td>0</td>\n",
       "      <td>175.0</td>\n",
       "      <td>94</td>\n",
       "      <td>1</td>\n",
       "    </tr>\n",
       "    <tr>\n",
       "      <th>4</th>\n",
       "      <td>75</td>\n",
       "      <td>0</td>\n",
       "      <td>190.0</td>\n",
       "      <td>80</td>\n",
       "      <td>0</td>\n",
       "    </tr>\n",
       "  </tbody>\n",
       "</table>\n",
       "</div>"
      ],
      "text/plain": [
       "   Age  Sex  Height  Weight  label\n",
       "0   75    0   190.0      80      0\n",
       "1   56    1   165.0      64      0\n",
       "2   54    0   172.0      95      0\n",
       "3   55    0   175.0      94      1\n",
       "4   75    0   190.0      80      0"
      ]
     },
     "execution_count": 123,
     "metadata": {},
     "output_type": "execute_result"
    }
   ],
   "source": [
    "df_person.head()"
   ]
  },
  {
   "cell_type": "code",
   "execution_count": 215,
   "id": "9846b0b5-4811-4a03-afb8-7b3193aa7f8b",
   "metadata": {},
   "outputs": [
    {
     "data": {
      "text/plain": [
       "count    452.000000\n",
       "mean      46.471239\n",
       "std       16.466631\n",
       "min        0.000000\n",
       "25%       36.000000\n",
       "50%       47.000000\n",
       "75%       58.000000\n",
       "max       83.000000\n",
       "Name: Age, dtype: float64"
      ]
     },
     "execution_count": 215,
     "metadata": {},
     "output_type": "execute_result"
    }
   ],
   "source": [
    "df_person['Age'].describe()"
   ]
  },
  {
   "cell_type": "markdown",
   "id": "46fe722a-f8d8-4e66-9cdd-f7d5fcb7a9bb",
   "metadata": {},
   "source": [
    "LOOKS OK"
   ]
  },
  {
   "cell_type": "code",
   "execution_count": 216,
   "id": "a291b9b6-4b7a-4a60-b2b9-ad2e0c155d6c",
   "metadata": {},
   "outputs": [
    {
     "data": {
      "text/html": [
       "<div>\n",
       "<style scoped>\n",
       "    .dataframe tbody tr th:only-of-type {\n",
       "        vertical-align: middle;\n",
       "    }\n",
       "\n",
       "    .dataframe tbody tr th {\n",
       "        vertical-align: top;\n",
       "    }\n",
       "\n",
       "    .dataframe thead th {\n",
       "        text-align: right;\n",
       "    }\n",
       "</style>\n",
       "<table border=\"1\" class=\"dataframe\">\n",
       "  <thead>\n",
       "    <tr style=\"text-align: right;\">\n",
       "      <th></th>\n",
       "      <th>Age</th>\n",
       "      <th>Height</th>\n",
       "      <th>Weight</th>\n",
       "    </tr>\n",
       "    <tr>\n",
       "      <th>Sex</th>\n",
       "      <th></th>\n",
       "      <th></th>\n",
       "      <th></th>\n",
       "    </tr>\n",
       "  </thead>\n",
       "  <tbody>\n",
       "    <tr>\n",
       "      <th>0</th>\n",
       "      <td>203</td>\n",
       "      <td>203</td>\n",
       "      <td>203</td>\n",
       "    </tr>\n",
       "    <tr>\n",
       "      <th>1</th>\n",
       "      <td>249</td>\n",
       "      <td>249</td>\n",
       "      <td>249</td>\n",
       "    </tr>\n",
       "  </tbody>\n",
       "</table>\n",
       "</div>"
      ],
      "text/plain": [
       "     Age  Height  Weight\n",
       "Sex                     \n",
       "0    203     203     203\n",
       "1    249     249     249"
      ]
     },
     "execution_count": 216,
     "metadata": {},
     "output_type": "execute_result"
    }
   ],
   "source": [
    "df_person.groupby('Sex').count()"
   ]
  },
  {
   "cell_type": "markdown",
   "id": "c1152bcc-829a-4d52-bf3d-22139be5b6bb",
   "metadata": {},
   "source": [
    "55% of samples are woman, 45% of samples are men"
   ]
  },
  {
   "cell_type": "code",
   "execution_count": 221,
   "id": "d1bda695-2776-4042-b6fd-d81275b9db09",
   "metadata": {},
   "outputs": [
    {
     "data": {
      "text/plain": [
       "count    452.000000\n",
       "mean     166.188053\n",
       "std       37.170340\n",
       "min      105.000000\n",
       "25%      160.000000\n",
       "50%      164.000000\n",
       "75%      170.000000\n",
       "max      780.000000\n",
       "Name: Height, dtype: float64"
      ]
     },
     "execution_count": 221,
     "metadata": {},
     "output_type": "execute_result"
    }
   ],
   "source": [
    "df_person['Height'].describe()"
   ]
  },
  {
   "cell_type": "code",
   "execution_count": 223,
   "id": "a5028958-b298-461b-87ac-253d7081ce4b",
   "metadata": {},
   "outputs": [
    {
     "data": {
      "text/html": [
       "<div>\n",
       "<style scoped>\n",
       "    .dataframe tbody tr th:only-of-type {\n",
       "        vertical-align: middle;\n",
       "    }\n",
       "\n",
       "    .dataframe tbody tr th {\n",
       "        vertical-align: top;\n",
       "    }\n",
       "\n",
       "    .dataframe thead th {\n",
       "        text-align: right;\n",
       "    }\n",
       "</style>\n",
       "<table border=\"1\" class=\"dataframe\">\n",
       "  <thead>\n",
       "    <tr style=\"text-align: right;\">\n",
       "      <th></th>\n",
       "      <th>Age</th>\n",
       "      <th>Sex</th>\n",
       "      <th>Weight</th>\n",
       "    </tr>\n",
       "    <tr>\n",
       "      <th>Height</th>\n",
       "      <th></th>\n",
       "      <th></th>\n",
       "      <th></th>\n",
       "    </tr>\n",
       "  </thead>\n",
       "  <tbody>\n",
       "    <tr>\n",
       "      <th>186</th>\n",
       "      <td>3</td>\n",
       "      <td>3</td>\n",
       "      <td>3</td>\n",
       "    </tr>\n",
       "    <tr>\n",
       "      <th>188</th>\n",
       "      <td>1</td>\n",
       "      <td>1</td>\n",
       "      <td>1</td>\n",
       "    </tr>\n",
       "    <tr>\n",
       "      <th>190</th>\n",
       "      <td>3</td>\n",
       "      <td>3</td>\n",
       "      <td>3</td>\n",
       "    </tr>\n",
       "    <tr>\n",
       "      <th>608</th>\n",
       "      <td>1</td>\n",
       "      <td>1</td>\n",
       "      <td>1</td>\n",
       "    </tr>\n",
       "    <tr>\n",
       "      <th>780</th>\n",
       "      <td>1</td>\n",
       "      <td>1</td>\n",
       "      <td>1</td>\n",
       "    </tr>\n",
       "  </tbody>\n",
       "</table>\n",
       "</div>"
      ],
      "text/plain": [
       "        Age  Sex  Weight\n",
       "Height                  \n",
       "186       3    3       3\n",
       "188       1    1       1\n",
       "190       3    3       3\n",
       "608       1    1       1\n",
       "780       1    1       1"
      ]
     },
     "execution_count": 223,
     "metadata": {},
     "output_type": "execute_result"
    }
   ],
   "source": [
    "df_person.groupby('Height').count().tail()"
   ]
  },
  {
   "cell_type": "markdown",
   "id": "390cb6e6-236d-4f83-b385-6aed2a75b0e1",
   "metadata": {},
   "source": [
    "when I check the height, there are two outiers: 780 and 608. "
   ]
  },
  {
   "cell_type": "code",
   "execution_count": 224,
   "id": "b59ea244-1b4e-4793-bddf-c320f3e280c1",
   "metadata": {},
   "outputs": [
    {
     "data": {
      "text/html": [
       "<div>\n",
       "<style scoped>\n",
       "    .dataframe tbody tr th:only-of-type {\n",
       "        vertical-align: middle;\n",
       "    }\n",
       "\n",
       "    .dataframe tbody tr th {\n",
       "        vertical-align: top;\n",
       "    }\n",
       "\n",
       "    .dataframe thead th {\n",
       "        text-align: right;\n",
       "    }\n",
       "</style>\n",
       "<table border=\"1\" class=\"dataframe\">\n",
       "  <thead>\n",
       "    <tr style=\"text-align: right;\">\n",
       "      <th></th>\n",
       "      <th>Age</th>\n",
       "      <th>Sex</th>\n",
       "      <th>Height</th>\n",
       "      <th>Weight</th>\n",
       "    </tr>\n",
       "  </thead>\n",
       "  <tbody>\n",
       "    <tr>\n",
       "      <th>141</th>\n",
       "      <td>1</td>\n",
       "      <td>1</td>\n",
       "      <td>780</td>\n",
       "      <td>6</td>\n",
       "    </tr>\n",
       "    <tr>\n",
       "      <th>316</th>\n",
       "      <td>0</td>\n",
       "      <td>0</td>\n",
       "      <td>608</td>\n",
       "      <td>10</td>\n",
       "    </tr>\n",
       "  </tbody>\n",
       "</table>\n",
       "</div>"
      ],
      "text/plain": [
       "     Age  Sex  Height  Weight\n",
       "141    1    1     780       6\n",
       "316    0    0     608      10"
      ]
     },
     "execution_count": 224,
     "metadata": {},
     "output_type": "execute_result"
    }
   ],
   "source": [
    "df_person[df_person['Height']>200]"
   ]
  },
  {
   "cell_type": "markdown",
   "id": "3113078d-952f-41b0-9d40-f7ca872eb62e",
   "metadata": {},
   "source": [
    "See their ages are 1 and 0, I think the height should be in mm."
   ]
  },
  {
   "cell_type": "code",
   "execution_count": null,
   "id": "edfc9ce9-6d0c-4150-b583-b39f6bead97d",
   "metadata": {},
   "outputs": [],
   "source": [
    "df_data[2][141]=78\n",
    "df_data[2][316]=60.8\n",
    "df_person['Height'][141]=78\n",
    "df_person['Height'][316]=60.8"
   ]
  },
  {
   "cell_type": "markdown",
   "id": "a23b0ba7-3b2c-4c35-86a8-c51d3ac62574",
   "metadata": {},
   "source": [
    "Next, I want to view the age and heighs distributions"
   ]
  },
  {
   "cell_type": "code",
   "execution_count": 251,
   "id": "bed37901-b756-4801-b6fe-dd5c879056dd",
   "metadata": {},
   "outputs": [
    {
     "data": {
      "text/plain": [
       "count    452.000000\n",
       "mean      68.170354\n",
       "std       16.590803\n",
       "min        6.000000\n",
       "25%       59.000000\n",
       "50%       68.000000\n",
       "75%       79.000000\n",
       "max      176.000000\n",
       "Name: Weight, dtype: float64"
      ]
     },
     "execution_count": 251,
     "metadata": {},
     "output_type": "execute_result"
    }
   ],
   "source": [
    "df_person['Weight'].describe()"
   ]
  },
  {
   "cell_type": "markdown",
   "id": "b9c05d85-9f09-4920-b525-dc1dd30d06cf",
   "metadata": {},
   "source": [
    "The max weight is 176 kg. still sounds reasonable to me."
   ]
  },
  {
   "cell_type": "code",
   "execution_count": null,
   "id": "581341a6-48d7-4556-a0ca-28e3a1d06698",
   "metadata": {},
   "outputs": [],
   "source": [
    "bins = [0, 10, 20, 30, 40, 50, 60, 70, 80, 90, 100]\n",
    "\n",
    "bin_labels = ['0-10','10-20','20-30','30-40','40-50', '50-60', '60-70', '70-80', '80-90', '90-100']\n",
    "df_person['AgeGroup'] = pd.cut(df_person['Age'], bins=bins, labels=bin_labels, right=False)\n",
    "\n"
   ]
  },
  {
   "cell_type": "code",
   "execution_count": null,
   "id": "2a53433b-7552-4e2d-899d-183f9bf76a5b",
   "metadata": {},
   "outputs": [],
   "source": [
    "bins = [0, 100, 140, 150, 160, 170, 180, 190, 200]\n",
    "\n",
    "bin_labels = ['0-100cm','100-140cm','140-150cm', '150-160cm','160-170cm','170-180cm', '180-190cm', '190-200cm']\n",
    "df_person['HeightGroup'] = pd.cut(df_person['Height'], bins=bins, labels=bin_labels, right=False)"
   ]
  },
  {
   "cell_type": "code",
   "execution_count": 272,
   "id": "0ef8c941-861c-44a7-91ee-39b9bbabfd27",
   "metadata": {},
   "outputs": [
    {
     "name": "stderr",
     "output_type": "stream",
     "text": [
      "/var/folders/nr/n2gb5q9x2cjg8v0ly8k8xtgc0000gn/T/ipykernel_13270/1697154934.py:4: SettingWithCopyWarning: \n",
      "A value is trying to be set on a copy of a slice from a DataFrame.\n",
      "Try using .loc[row_indexer,col_indexer] = value instead\n",
      "\n",
      "See the caveats in the documentation: https://pandas.pydata.org/pandas-docs/stable/user_guide/indexing.html#returning-a-view-versus-a-copy\n",
      "  df_person['WeightGroup'] = pd.cut(df_person['Weight'], bins=bins, labels=bin_labels, right=False)\n"
     ]
    }
   ],
   "source": [
    "bins = [0, 10, 20, 30, 40, 50, 60, 70, 80, 90, 100, 110]\n",
    "\n",
    "bin_labels = ['0-10','10-20','20-30','30-40','40-50', '50-60', '60-70', '70-80', '80-90', '90-100', '100 Above']\n",
    "df_person['WeightGroup'] = pd.cut(df_person['Weight'], bins=bins, labels=bin_labels, right=False)"
   ]
  },
  {
   "cell_type": "code",
   "execution_count": 273,
   "id": "f69ebb6e-2da6-4543-bdab-09d40584732f",
   "metadata": {},
   "outputs": [],
   "source": [
    "df_height = df_person.groupby('HeightGroup').count().rename(columns={'Age':'number'})[['number']]\n",
    "df_age = df_person.groupby('AgeGroup').count().rename(columns={'Age':'number'})[['number']]\n",
    "df_weight = df_person.groupby('WeightGroup').count().rename(columns={'Age':'number'})[['number']]"
   ]
  },
  {
   "cell_type": "code",
   "execution_count": 274,
   "id": "cf6d1df5-daef-444a-a454-ef5b479f691f",
   "metadata": {},
   "outputs": [
    {
     "data": {
      "text/plain": [
       "([0, 1, 2, 3, 4, 5, 6, 7],\n",
       " [Text(0, 0, ''),\n",
       "  Text(0, 0, ''),\n",
       "  Text(0, 0, ''),\n",
       "  Text(0, 0, ''),\n",
       "  Text(0, 0, ''),\n",
       "  Text(0, 0, ''),\n",
       "  Text(0, 0, ''),\n",
       "  Text(0, 0, '')])"
      ]
     },
     "execution_count": 274,
     "metadata": {},
     "output_type": "execute_result"
    },
    {
     "data": {
      "image/png": "[encoded data removed]",
      "text/plain": [
       "<Figure size 432x288 with 2 Axes>"
      ]
     },
     "metadata": {
      "needs_background": "light"
     },
     "output_type": "display_data"
    }
   ],
   "source": [
    "import matplotlib.pyplot as plt\n",
    "import numpy as np\n",
    "\n",
    "plt.subplot(1,2,1)\n",
    "agegroup = df_age.index\n",
    "numbers = df_age['number']\n",
    "plt.bar(agegroup,numbers)\n",
    "plt.xticks(rotation = 90)\n",
    "\n",
    "plt.subplot(1,2,2)\n",
    "heightgroup = df_height.index\n",
    "numbers = df_height['number']\n",
    "plt.bar(heightgroup,numbers)\n",
    "plt.xticks(rotation = 90)\n",
    "\n"
   ]
  },
  {
   "cell_type": "code",
   "execution_count": 275,
   "id": "e1feb16f-6b81-462e-8bf6-16ddcf030ba0",
   "metadata": {},
   "outputs": [
    {
     "data": {
      "image/png": "[encoded data removed]",
      "text/plain": [
       "<Figure size 432x288 with 1 Axes>"
      ]
     },
     "metadata": {
      "needs_background": "light"
     },
     "output_type": "display_data"
    }
   ],
   "source": [
    "weightgroup = df_weight.index\n",
    "numbers = df_weight['number']\n",
    "plt.bar(weightgroup,numbers)\n",
    "plt.xticks(rotation = 90)\n",
    "plt.show()"
   ]
  },
  {
   "cell_type": "code",
   "execution_count": 276,
   "id": "6cfa82f9-2336-44f3-9836-aa7b6a197037",
   "metadata": {},
   "outputs": [
    {
     "data": {
      "image/png": "[encoded data removed]",
      "text/plain": [
       "<Figure size 432x288 with 2 Axes>"
      ]
     },
     "metadata": {
      "needs_background": "light"
     },
     "output_type": "display_data"
    }
   ],
   "source": [
    "df_height_sick = df_person[df_person['label'] == 0].groupby('HeightGroup').count().rename(columns={'Age':'number'})[['number']]\n",
    "df_age_sick = df_person[df_person['label'] == 0].groupby('AgeGroup').count().rename(columns={'Age':'number'})[['number']]\n",
    "\n",
    "\n",
    "plt.subplot(1,2,1)\n",
    "agegroup = df_age_sick.index\n",
    "numbers = df_age_sick['number']\n",
    "plt.bar(agegroup,numbers)\n",
    "plt.xticks(rotation = 90)\n",
    "plt.subplot(1,2,2)\n",
    "heightgroup = df_height_sick.index\n",
    "numbers = df_height_sick['number']\n",
    "plt.bar(heightgroup,numbers)\n",
    "plt.xticks(rotation = 90)\n",
    "plt.show()"
   ]
  },
  {
   "cell_type": "code",
   "execution_count": 277,
   "id": "df798c29-6a76-45f3-a730-a4fb533f4731",
   "metadata": {},
   "outputs": [
    {
     "data": {
      "image/png": "[encoded data removed]",
      "text/plain": [
       "<Figure size 432x288 with 2 Axes>"
      ]
     },
     "metadata": {
      "needs_background": "light"
     },
     "output_type": "display_data"
    }
   ],
   "source": [
    "df_height_normal = df_person[df_person['label'] ==1].groupby('HeightGroup').count().rename(columns={'Age':'number'})[['number']]\n",
    "df_age_normal = df_person[df_person['label'] == 1].groupby('AgeGroup').count().rename(columns={'Age':'number'})[['number']]\n",
    "\n",
    "\n",
    "plt.subplot(1,2,1)\n",
    "agegroup = df_age_normal.index\n",
    "numbers = df_age_normal['number']\n",
    "plt.bar(agegroup,numbers)\n",
    "plt.xticks(rotation = 90)\n",
    "plt.subplot(1,2,2)\n",
    "heightgroup = df_height_normal.index\n",
    "numbers = df_height_normal['number']\n",
    "plt.bar(heightgroup,numbers)\n",
    "plt.xticks(rotation = 90)\n",
    "plt.show()"
   ]
  },
  {
   "cell_type": "code",
   "execution_count": 278,
   "id": "efb8eb23-a000-4ef4-94b9-d44fd522ab76",
   "metadata": {},
   "outputs": [
    {
     "data": {
      "text/plain": [
       "<seaborn.axisgrid.JointGrid at 0x7fba85d07190>"
      ]
     },
     "execution_count": 278,
     "metadata": {},
     "output_type": "execute_result"
    },
    {
     "data": {
      "image/png": "[encoded data removed]",
      "text/plain": [
       "<Figure size 432x432 with 3 Axes>"
      ]
     },
     "metadata": {
      "needs_background": "light"
     },
     "output_type": "display_data"
    }
   ],
   "source": [
    "import seaborn as sns\n",
    "#sns.scatterplot(x=\"Age\", y=\"Height\", data=df_person)\n",
    "sns.jointplot(x=\"Age\", \n",
    "              y=\"Height\",\n",
    "              kind=\"reg\",\n",
    "             data=df_person)"
   ]
  },
  {
   "cell_type": "code",
   "execution_count": 279,
   "id": "10607916-d285-4387-8e21-32df21f6a05f",
   "metadata": {},
   "outputs": [
    {
     "data": {
      "text/plain": [
       "<seaborn.axisgrid.JointGrid at 0x7fba979887f0>"
      ]
     },
     "execution_count": 279,
     "metadata": {},
     "output_type": "execute_result"
    },
    {
     "data": {
      "image/png": "[encoded data removed]",
      "text/plain": [
       "<Figure size 432x432 with 3 Axes>"
      ]
     },
     "metadata": {
      "needs_background": "light"
     },
     "output_type": "display_data"
    }
   ],
   "source": [
    "sns.jointplot(x=\"Age\", \n",
    "              y=\"Height\",\n",
    "              hue=\"label\",\n",
    "             data=df_person)"
   ]
  },
  {
   "cell_type": "code",
   "execution_count": 280,
   "id": "b79fb0e0-b999-4d67-a499-ae0b88b62ba2",
   "metadata": {},
   "outputs": [
    {
     "data": {
      "text/plain": [
       "<seaborn.axisgrid.JointGrid at 0x7fba85e36f70>"
      ]
     },
     "execution_count": 280,
     "metadata": {},
     "output_type": "execute_result"
    },
    {
     "data": {
      "image/png": "[encoded data removed]",
      "text/plain": [
       "<Figure size 432x432 with 3 Axes>"
      ]
     },
     "metadata": {
      "needs_background": "light"
     },
     "output_type": "display_data"
    }
   ],
   "source": [
    "sns.jointplot(x=\"Weight\", \n",
    "              y=\"Height\",\n",
    "              hue=\"label\",\n",
    "             data=df_person)"
   ]
  },
  {
   "cell_type": "markdown",
   "id": "27a69036-e97b-4f01-b2a2-41bff7856f96",
   "metadata": {},
   "source": [
    "Seems like age and heights are not key features."
   ]
  },
  {
   "cell_type": "code",
   "execution_count": 245,
   "id": "848cfe6c-837e-43ed-b4e6-0591aa19a07e",
   "metadata": {},
   "outputs": [
    {
     "data": {
      "text/plain": [
       "0.5812807881773399"
      ]
     },
     "execution_count": 245,
     "metadata": {},
     "output_type": "execute_result"
    }
   ],
   "source": [
    "len(df_person[(df_person['Sex'] == 0) & (df_person['label'] == 0)])/len(df_person[df_person['Sex'] == 0])"
   ]
  },
  {
   "cell_type": "code",
   "execution_count": 246,
   "id": "d7ea6018-cd39-4dfd-b962-689c844ae45c",
   "metadata": {},
   "outputs": [
    {
     "data": {
      "text/plain": [
       "0.357429718875502"
      ]
     },
     "execution_count": 246,
     "metadata": {},
     "output_type": "execute_result"
    }
   ],
   "source": [
    "len(df_person[(df_person['Sex'] == 1) & (df_person['label'] == 0)])/len(df_person[df_person['Sex'] == 1])"
   ]
  },
  {
   "cell_type": "markdown",
   "id": "029c0534-d4c7-460d-a816-c9b4175f8c11",
   "metadata": {},
   "source": [
    "For all sampled women, 35% of them have arrhythmia. For all sampled men, 58% of them have arrhythmia."
   ]
  },
  {
   "cell_type": "code",
   "execution_count": 247,
   "id": "ebec8449-0222-4503-9247-7d7d43b01e73",
   "metadata": {},
   "outputs": [
    {
     "data": {
      "text/plain": [
       "0.5700483091787439"
      ]
     },
     "execution_count": 247,
     "metadata": {},
     "output_type": "execute_result"
    }
   ],
   "source": [
    "len(df_person[(df_person['Sex'] == 0) & (df_person['label'] == 0)])/len(df_person[df_person['label'] == 0])"
   ]
  },
  {
   "cell_type": "code",
   "execution_count": 248,
   "id": "16dc7f40-b6f7-45a6-a916-23062f381a15",
   "metadata": {},
   "outputs": [
    {
     "data": {
      "text/plain": [
       "0.42995169082125606"
      ]
     },
     "execution_count": 248,
     "metadata": {},
     "output_type": "execute_result"
    }
   ],
   "source": [
    "len(df_person[(df_person['Sex'] == 1) & (df_person['label'] == 0)])/len(df_person[df_person['label'] == 0])"
   ]
  },
  {
   "cell_type": "markdown",
   "id": "050f0f82-3bc3-4da6-9e49-985dac2f1c90",
   "metadata": {},
   "source": [
    "Look at the population of samples who have arrhythmia, 57% of them are men and 43% of them are women. To me it seems like men are more likely to get arrhythmia."
   ]
  },
  {
   "cell_type": "code",
   "execution_count": null,
   "id": "5d29e9f4-99b1-40c1-9b19-b26ca6a3cd9a",
   "metadata": {},
   "outputs": [],
   "source": []
  }
 ],
 "metadata": {
  "interpreter": {
   "hash": "71ece4cc9c4aede854b5983a138a0d4c9cc415fe9dd0477bef89310f7b90319c"
  },
  "kernelspec": {
   "display_name": "Python 3 (ipykernel)",
   "language": "python",
   "name": "python3"
  },
  "language_info": {
   "codemirror_mode": {
    "name": "ipython",
    "version": 3
   },
   "file_extension": ".py",
   "mimetype": "text/x-python",
   "name": "python",
   "nbconvert_exporter": "python",
   "pygments_lexer": "ipython3",
   "version": "3.9.12"
  }
 },
 "nbformat": 4,
 "nbformat_minor": 5
}
